{
  "nbformat": 4,
  "nbformat_minor": 0,
  "metadata": {
    "colab": {
      "name": "learnableParametersANN.ipynb",
      "provenance": [],
      "collapsed_sections": [
        "FP-IaR_CAKN9"
      ]
    },
    "kernelspec": {
      "name": "python3",
      "display_name": "Python 3"
    }
  },
  "cells": [
    {
      "cell_type": "markdown",
      "metadata": {
        "id": "FP-IaR_CAKN9"
      },
      "source": [
        "# Learnable Parameters in an Artificial Neural Network"
      ]
    },
    {
      "cell_type": "code",
      "metadata": {
        "id": "KyEXtZO0AG5g"
      },
      "source": [
        "import tensorflow as tf\r\n",
        "from tensorflow import keras\r\n",
        "from keras.models import Sequential\r\n",
        "from keras.layers import Dense, Activation"
      ],
      "execution_count": null,
      "outputs": []
    },
    {
      "cell_type": "code",
      "metadata": {
        "id": "T304wUTEAAv6"
      },
      "source": [
        "initializer = tf.keras.initializers.GlorotNormal(1)\r\n",
        "\r\n",
        "model = Sequential([\r\n",
        "      Dense(units=2, input_shape=(1,), activation='relu'),\r\n",
        "      Dense(units=24, activation='relu', kernel_initializer='glorot_uniform'),\r\n",
        "      Dense(units=12, activation='relu', kernel_initializer=initializer),\r\n",
        "      Dense(units=2, activation='softmax')\r\n",
        "])"
      ],
      "execution_count": null,
      "outputs": []
    },
    {
      "cell_type": "code",
      "metadata": {
        "colab": {
          "base_uri": "https://localhost:8080/"
        },
        "id": "4msOcYIUMhd1",
        "outputId": "0bcbc5c6-e297-49cd-fa4e-8065648a7773"
      },
      "source": [
        "model.summary()"
      ],
      "execution_count": null,
      "outputs": [
        {
          "output_type": "stream",
          "text": [
            "Model: \"sequential_6\"\n",
            "_________________________________________________________________\n",
            "Layer (type)                 Output Shape              Param #   \n",
            "=================================================================\n",
            "dense_24 (Dense)             (None, 2)                 4         \n",
            "_________________________________________________________________\n",
            "dense_25 (Dense)             (None, 24)                72        \n",
            "_________________________________________________________________\n",
            "dense_26 (Dense)             (None, 12)                300       \n",
            "_________________________________________________________________\n",
            "dense_27 (Dense)             (None, 2)                 26        \n",
            "=================================================================\n",
            "Total params: 402\n",
            "Trainable params: 402\n",
            "Non-trainable params: 0\n",
            "_________________________________________________________________\n"
          ],
          "name": "stdout"
        }
      ]
    },
    {
      "cell_type": "code",
      "metadata": {
        "id": "sp7CWL_HTimF"
      },
      "source": [
        "model.get_weights()"
      ],
      "execution_count": null,
      "outputs": []
    },
    {
      "cell_type": "code",
      "metadata": {
        "id": "nJTvD-ZSeheT"
      },
      "source": [
        ""
      ],
      "execution_count": null,
      "outputs": []
    },
    {
      "cell_type": "code",
      "metadata": {
        "id": "viY9Ahekejck"
      },
      "source": [
        ""
      ],
      "execution_count": null,
      "outputs": []
    },
    {
      "cell_type": "markdown",
      "metadata": {
        "id": "345P8INrelFH"
      },
      "source": [
        "# Batch and Batch Normalization"
      ]
    },
    {
      "cell_type": "code",
      "metadata": {
        "id": "ssvN9PiveqYG"
      },
      "source": [
        "import tensorflow as tf\r\n",
        "from tensorflow import keras\r\n",
        "from keras.models import Sequential\r\n",
        "from keras.layers import Dense, Activation, BatchNormalization"
      ],
      "execution_count": null,
      "outputs": []
    },
    {
      "cell_type": "markdown",
      "metadata": {
        "id": "DOmNekJreVJ9"
      },
      "source": [
        "# Batch"
      ]
    },
    {
      "cell_type": "code",
      "metadata": {
        "id": "J2qIoMvkebVp"
      },
      "source": [
        "model.fit(scaled_training_data, training_labels, validation_data = validation_set, batch_size=10, epochs=20, shuffle=True, verbose=2)"
      ],
      "execution_count": null,
      "outputs": []
    },
    {
      "cell_type": "markdown",
      "metadata": {
        "id": "r99mCXyieb-t"
      },
      "source": [
        "# Batch Normalization\r\n"
      ]
    },
    {
      "cell_type": "code",
      "metadata": {
        "id": "dlmP6DwzefoE"
      },
      "source": [
        "model = Sequential([\r\n",
        "      Dense(units=2, input_shape=(1,), activation='relu'),\r\n",
        "      Dense(units=24, activation='relu', kernel_initializer='glorot_uniform'),\r\n",
        "      BatchNormalization(),\r\n",
        "      Dense(units=12, activation='relu', kernel_initializer='glorot_uniform'),\r\n",
        "      BatchNormalization(),\r\n",
        "      Dense(units=2, activation='softmax')\r\n",
        "])"
      ],
      "execution_count": null,
      "outputs": []
    },
    {
      "cell_type": "code",
      "metadata": {
        "colab": {
          "base_uri": "https://localhost:8080/"
        },
        "id": "-bORI41bFOP_",
        "outputId": "d94ab397-ee4f-4901-925f-e06db7fde859"
      },
      "source": [
        "model.summary()"
      ],
      "execution_count": null,
      "outputs": [
        {
          "output_type": "stream",
          "text": [
            "Model: \"sequential_2\"\n",
            "_________________________________________________________________\n",
            "Layer (type)                 Output Shape              Param #   \n",
            "=================================================================\n",
            "dense_10 (Dense)             (None, 2)                 4         \n",
            "_________________________________________________________________\n",
            "dense_11 (Dense)             (None, 24)                72        \n",
            "_________________________________________________________________\n",
            "batch_normalization_2 (Batch (None, 24)                96        \n",
            "_________________________________________________________________\n",
            "dense_12 (Dense)             (None, 12)                300       \n",
            "_________________________________________________________________\n",
            "batch_normalization_3 (Batch (None, 12)                48        \n",
            "_________________________________________________________________\n",
            "dense_13 (Dense)             (None, 2)                 26        \n",
            "=================================================================\n",
            "Total params: 546\n",
            "Trainable params: 474\n",
            "Non-trainable params: 72\n",
            "_________________________________________________________________\n"
          ],
          "name": "stdout"
        }
      ]
    },
    {
      "cell_type": "code",
      "metadata": {
        "id": "amayIkS_FZdz"
      },
      "source": [
        "model2 = Sequential([\r\n",
        "      Dense(units=2, input_shape=(1,), activation='relu'),\r\n",
        "      Dense(units=24, activation='relu', kernel_initializer='glorot_uniform'),\r\n",
        "      Dense(units=12, activation='relu', kernel_initializer='glorot_uniform'),\r\n",
        "      Dense(units=2, activation='softmax')\r\n",
        "])"
      ],
      "execution_count": null,
      "outputs": []
    },
    {
      "cell_type": "code",
      "metadata": {
        "colab": {
          "base_uri": "https://localhost:8080/"
        },
        "id": "ASYtiRhTFcY3",
        "outputId": "f8e7dc17-9b2c-4f89-b948-6985495b7c3e"
      },
      "source": [
        "model2.summary()"
      ],
      "execution_count": null,
      "outputs": [
        {
          "output_type": "stream",
          "text": [
            "Model: \"sequential_3\"\n",
            "_________________________________________________________________\n",
            "Layer (type)                 Output Shape              Param #   \n",
            "=================================================================\n",
            "dense_14 (Dense)             (None, 2)                 4         \n",
            "_________________________________________________________________\n",
            "dense_15 (Dense)             (None, 24)                72        \n",
            "_________________________________________________________________\n",
            "dense_16 (Dense)             (None, 12)                300       \n",
            "_________________________________________________________________\n",
            "dense_17 (Dense)             (None, 2)                 26        \n",
            "=================================================================\n",
            "Total params: 402\n",
            "Trainable params: 402\n",
            "Non-trainable params: 0\n",
            "_________________________________________________________________\n"
          ],
          "name": "stdout"
        }
      ]
    }
  ]
}