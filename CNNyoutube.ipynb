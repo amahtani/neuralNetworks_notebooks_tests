{
  "nbformat": 4,
  "nbformat_minor": 0,
  "metadata": {
    "colab": {
      "name": "CNNyoutube.ipynb",
      "provenance": [],
      "collapsed_sections": []
    },
    "kernelspec": {
      "name": "python3",
      "display_name": "Python 3"
    },
    "accelerator": "GPU"
  },
  "cells": [
    {
      "cell_type": "markdown",
      "metadata": {
        "id": "INTErZx5KHts"
      },
      "source": [
        "# Convolutional Neural Network"
      ]
    },
    {
      "cell_type": "code",
      "metadata": {
        "id": "dGjbpVBoGjmu"
      },
      "source": [
        "import numpy as np\r\n",
        "import tensorflow as tf\r\n",
        "from tensorflow import keras\r\n",
        "from tensorflow.keras.models import Sequential\r\n",
        "from tensorflow.keras.layers import Activation, Dense, Flatten, BatchNormalization, Conv2D, MaxPooling2D, Dropout\r\n",
        "from tensorflow.keras.datasets import mnist\r\n",
        "from tensorflow.keras.optimizers import Adam\r\n",
        "import matplotlib.pyplot as plt"
      ],
      "execution_count": null,
      "outputs": []
    },
    {
      "cell_type": "code",
      "metadata": {
        "colab": {
          "base_uri": "https://localhost:8080/"
        },
        "id": "IyUXJUueI8zY",
        "outputId": "2f8d0cc6-c83a-46c2-d127-c8a5c9644ed1"
      },
      "source": [
        "physical_devices = tf.config.experimental.list_physical_devices('GPU')\r\n",
        "print(\"GPUs Available: \", len(physical_devices))\r\n",
        "tf.config.experimental.set_memory_growth(physical_devices[0], True)"
      ],
      "execution_count": null,
      "outputs": [
        {
          "output_type": "stream",
          "text": [
            "GPUs Available:  1\n"
          ],
          "name": "stdout"
        }
      ]
    },
    {
      "cell_type": "markdown",
      "metadata": {
        "id": "3B5rd1c-Hti9"
      },
      "source": [
        "# Import MNIST Dataset"
      ]
    },
    {
      "cell_type": "code",
      "metadata": {
        "colab": {
          "base_uri": "https://localhost:8080/"
        },
        "id": "HMT7OSHnHxhV",
        "outputId": "a1c04252-2b3c-4ef6-9024-fa39547b283f"
      },
      "source": [
        "(x_train, y_train), (x_test, y_test) = mnist.load_data()\r\n",
        "\r\n",
        "print(x_train.shape)\r\n",
        "print(y_train.shape)\r\n",
        "print(y_train[:5])\r\n",
        "\r\n",
        "img_rows=x_train[0].shape[0]\r\n",
        "img_cols=x_test[0].shape[1]\r\n",
        "\r\n",
        "X_train = x_train.reshape(x_train.shape[0], img_rows, img_cols, 1)\r\n",
        "X_test = x_test.reshape(x_test.shape[0], img_rows, img_cols, 1)"
      ],
      "execution_count": null,
      "outputs": [
        {
          "output_type": "stream",
          "text": [
            "Downloading data from https://storage.googleapis.com/tensorflow/tf-keras-datasets/mnist.npz\n",
            "11493376/11490434 [==============================] - 0s 0us/step\n",
            "(60000, 28, 28)\n",
            "(60000,)\n",
            "[5 0 4 1 9]\n"
          ],
          "name": "stdout"
        }
      ]
    },
    {
      "cell_type": "code",
      "metadata": {
        "id": "wTzR3q-9IS8H"
      },
      "source": [
        "def plotImages(images_arr):\r\n",
        "    fig, axes = plt.subplots(1, 10, figsize=(20,20))\r\n",
        "    axes = axes.flatten()\r\n",
        "    for img, ax in zip( images_arr, axes):\r\n",
        "        ax.imshow(img)\r\n",
        "        ax.axis('off')\r\n",
        "    plt.tight_layout()\r\n",
        "    plt.show()"
      ],
      "execution_count": null,
      "outputs": []
    },
    {
      "cell_type": "code",
      "metadata": {
        "colab": {
          "base_uri": "https://localhost:8080/",
          "height": 109
        },
        "id": "12QjU55gIXyA",
        "outputId": "fad5795f-bdb9-4655-c172-c60b8e97b98b"
      },
      "source": [
        "plotImages(x_train[:10])"
      ],
      "execution_count": null,
      "outputs": [
        {
          "output_type": "display_data",
          "data": {
            "image/png": "[encoded data removed]",
            "text/plain": [
              "<Figure size 1440x1440 with 10 Axes>"
            ]
          },
          "metadata": {
            "tags": [],
            "needs_background": "light"
          }
        }
      ]
    },
    {
      "cell_type": "markdown",
      "metadata": {
        "id": "K5STVm1bJ_xc"
      },
      "source": [
        "# Create a Convolutional Neural Network"
      ]
    },
    {
      "cell_type": "code",
      "metadata": {
        "id": "QfW99cTqI28u"
      },
      "source": [
        "model = Sequential([\r\n",
        "      Conv2D(32, (5,5), activation='relu', padding='same', input_shape=(28, 28, 1)),\r\n",
        "      MaxPooling2D(pool_size=(2,2), padding='same'),\r\n",
        "      Conv2D(32, (5,5), padding='same', activation='relu'),\r\n",
        "      MaxPooling2D(pool_size=(2,2), padding='same'),\r\n",
        "      Flatten(),\r\n",
        "      Dense(1024, activation='relu'),\r\n",
        "      Dropout(0.4),\r\n",
        "      Dense(10)\r\n",
        "])"
      ],
      "execution_count": null,
      "outputs": []
    },
    {
      "cell_type": "code",
      "metadata": {
        "colab": {
          "base_uri": "https://localhost:8080/"
        },
        "id": "bnZtiLX-J-eY",
        "outputId": "03b4f7b4-745d-4235-c25c-9a5d7cb3d7d9"
      },
      "source": [
        "model.summary()"
      ],
      "execution_count": null,
      "outputs": [
        {
          "output_type": "stream",
          "text": [
            "Model: \"sequential\"\n",
            "_________________________________________________________________\n",
            "Layer (type)                 Output Shape              Param #   \n",
            "=================================================================\n",
            "conv2d (Conv2D)              (None, 28, 28, 32)        832       \n",
            "_________________________________________________________________\n",
            "max_pooling2d (MaxPooling2D) (None, 14, 14, 32)        0         \n",
            "_________________________________________________________________\n",
            "conv2d_1 (Conv2D)            (None, 14, 14, 32)        25632     \n",
            "_________________________________________________________________\n",
            "max_pooling2d_1 (MaxPooling2 (None, 7, 7, 32)          0         \n",
            "_________________________________________________________________\n",
            "flatten (Flatten)            (None, 1568)              0         \n",
            "_________________________________________________________________\n",
            "dense (Dense)                (None, 1024)              1606656   \n",
            "_________________________________________________________________\n",
            "dropout (Dropout)            (None, 1024)              0         \n",
            "_________________________________________________________________\n",
            "dense_1 (Dense)              (None, 10)                10250     \n",
            "=================================================================\n",
            "Total params: 1,643,370\n",
            "Trainable params: 1,643,370\n",
            "Non-trainable params: 0\n",
            "_________________________________________________________________\n"
          ],
          "name": "stdout"
        }
      ]
    },
    {
      "cell_type": "markdown",
      "metadata": {
        "id": "GODLG0GJIKBX"
      },
      "source": [
        "# Compile the Neural Network"
      ]
    },
    {
      "cell_type": "code",
      "metadata": {
        "id": "qwaXDxfzINSl"
      },
      "source": [
        "model.compile(optimizer=Adam(),\r\n",
        "              loss=tf.keras.losses.SparseCategoricalCrossentropy(from_logits=True),\r\n",
        "              metrics=['sparse_categorical_accuracy']\r\n",
        "              )"
      ],
      "execution_count": null,
      "outputs": []
    },
    {
      "cell_type": "markdown",
      "metadata": {
        "id": "avQLqMzaI3Dx"
      },
      "source": [
        "# Train the Neural Network"
      ]
    },
    {
      "cell_type": "code",
      "metadata": {
        "id": "q_GXN5MJJY6A"
      },
      "source": [
        "batch_size = 200\r\n",
        "epochs = 10\r\n",
        "steps_per_epoch = 54000 // batch_size\r\n",
        "validation_steps = 6000 // batch_size"
      ],
      "execution_count": null,
      "outputs": []
    },
    {
      "cell_type": "code",
      "metadata": {
        "colab": {
          "base_uri": "https://localhost:8080/"
        },
        "id": "qfcdM20IJABW",
        "outputId": "2cab110e-6b69-4006-8094-19b6e39d3871"
      },
      "source": [
        "history = model.fit(X_train, y_train,\r\n",
        "                    batch_size=batch_size,\r\n",
        "                    epochs=epochs,\r\n",
        "                    steps_per_epoch=steps_per_epoch,\r\n",
        "                    validation_split=0.1, \r\n",
        "                    validation_steps=validation_steps\r\n",
        "                    )"
      ],
      "execution_count": null,
      "outputs": [
        {
          "output_type": "stream",
          "text": [
            "Epoch 1/10\n",
            "270/270 [==============================] - 9s 8ms/step - loss: 4.9940 - sparse_categorical_accuracy: 0.7673 - val_loss: 0.0790 - val_sparse_categorical_accuracy: 0.9767\n",
            "Epoch 2/10\n",
            "270/270 [==============================] - 2s 6ms/step - loss: 0.0896 - sparse_categorical_accuracy: 0.9716 - val_loss: 0.0719 - val_sparse_categorical_accuracy: 0.9798\n",
            "Epoch 3/10\n",
            "270/270 [==============================] - 2s 6ms/step - loss: 0.0517 - sparse_categorical_accuracy: 0.9834 - val_loss: 0.0550 - val_sparse_categorical_accuracy: 0.9823\n",
            "Epoch 4/10\n",
            "270/270 [==============================] - 2s 6ms/step - loss: 0.0424 - sparse_categorical_accuracy: 0.9863 - val_loss: 0.0535 - val_sparse_categorical_accuracy: 0.9852\n",
            "Epoch 5/10\n",
            "270/270 [==============================] - 2s 6ms/step - loss: 0.0318 - sparse_categorical_accuracy: 0.9895 - val_loss: 0.0510 - val_sparse_categorical_accuracy: 0.9873\n",
            "Epoch 6/10\n",
            "270/270 [==============================] - 2s 6ms/step - loss: 0.0270 - sparse_categorical_accuracy: 0.9908 - val_loss: 0.0537 - val_sparse_categorical_accuracy: 0.9837\n",
            "Epoch 7/10\n",
            "270/270 [==============================] - 2s 6ms/step - loss: 0.0274 - sparse_categorical_accuracy: 0.9908 - val_loss: 0.0542 - val_sparse_categorical_accuracy: 0.9860\n",
            "Epoch 8/10\n",
            "270/270 [==============================] - 2s 6ms/step - loss: 0.0206 - sparse_categorical_accuracy: 0.9928 - val_loss: 0.0561 - val_sparse_categorical_accuracy: 0.9852\n",
            "Epoch 9/10\n",
            "270/270 [==============================] - 2s 6ms/step - loss: 0.0189 - sparse_categorical_accuracy: 0.9939 - val_loss: 0.0671 - val_sparse_categorical_accuracy: 0.9847\n",
            "Epoch 10/10\n",
            "270/270 [==============================] - 2s 6ms/step - loss: 0.0243 - sparse_categorical_accuracy: 0.9920 - val_loss: 0.0465 - val_sparse_categorical_accuracy: 0.9877\n"
          ],
          "name": "stdout"
        }
      ]
    },
    {
      "cell_type": "code",
      "metadata": {
        "colab": {
          "base_uri": "https://localhost:8080/",
          "height": 295
        },
        "id": "s4DDvShiL8ME",
        "outputId": "2c6c77dc-99c8-456d-891d-8a7c7f98fe1a"
      },
      "source": [
        "# Plot the accuracy of the model during training\r\n",
        "plt.plot(history.history['sparse_categorical_accuracy'])\r\n",
        "plt.plot(history.history['val_sparse_categorical_accuracy'])\r\n",
        "plt.title('Model Accuracy')\r\n",
        "plt.ylabel('Sparse_categorical_accuracy')\r\n",
        "plt.xlabel('Epoch')\r\n",
        "plt.legend(['Training', 'Validation'], loc='upper left')\r\n",
        "plt.show()"
      ],
      "execution_count": null,
      "outputs": [
        {
          "output_type": "display_data",
          "data": {
            "image/png": "[encoded data removed]",
            "text/plain": [
              "<Figure size 432x288 with 1 Axes>"
            ]
          },
          "metadata": {
            "tags": [],
            "needs_background": "light"
          }
        }
      ]
    },
    {
      "cell_type": "code",
      "metadata": {
        "colab": {
          "base_uri": "https://localhost:8080/",
          "height": 295
        },
        "id": "esRRCfC2L9gb",
        "outputId": "d34af712-805f-496c-d827-84247ee349fc"
      },
      "source": [
        "# Plot the loss of the model during training\r\n",
        "plt.plot(history.history['loss'])\r\n",
        "plt.plot(history.history['val_loss'])\r\n",
        "plt.title('Model Loss')\r\n",
        "plt.ylabel('Loss')\r\n",
        "plt.xlabel('Epoch')\r\n",
        "plt.legend(['Training', 'Validation'], loc='upper right')\r\n",
        "plt.show()"
      ],
      "execution_count": null,
      "outputs": [
        {
          "output_type": "display_data",
          "data": {
            "image/png": "[encoded data removed]",
            "text/plain": [
              "<Figure size 432x288 with 1 Axes>"
            ]
          },
          "metadata": {
            "tags": [],
            "needs_background": "light"
          }
        }
      ]
    },
    {
      "cell_type": "code",
      "metadata": {
        "colab": {
          "base_uri": "https://localhost:8080/"
        },
        "id": "ipteh02QObYC",
        "outputId": "8490880a-8741-4dfa-fceb-fa3669c9a440"
      },
      "source": [
        "# Evaluate the best model with testing data.\r\n",
        "print(model.evaluate(X_test, y_test))"
      ],
      "execution_count": null,
      "outputs": [
        {
          "output_type": "stream",
          "text": [
            "313/313 [==============================] - 1s 2ms/step - loss: 0.0512 - sparse_categorical_accuracy: 0.9874\n",
            "[0.05119241774082184, 0.9873999953269958]\n"
          ],
          "name": "stdout"
        }
      ]
    },
    {
      "cell_type": "code",
      "metadata": {
        "colab": {
          "base_uri": "https://localhost:8080/",
          "height": 153
        },
        "id": "VJePt7poPoPa",
        "outputId": "c530b3dd-addd-41b9-e6c2-0d58e398693a"
      },
      "source": [
        "plotImages(x_test[:10])"
      ],
      "execution_count": null,
      "outputs": [
        {
          "output_type": "display_data",
          "data": {
            "image/png": "[encoded data removed]",
            "text/plain": [
              "<Figure size 1440x1440 with 10 Axes>"
            ]
          },
          "metadata": {
            "tags": [],
            "needs_background": "light"
          }
        }
      ]
    },
    {
      "cell_type": "code",
      "metadata": {
        "colab": {
          "base_uri": "https://localhost:8080/"
        },
        "id": "xStbKUBhOxu6",
        "outputId": "75390c85-561e-44fa-bfe1-bf6c8d7a22a2"
      },
      "source": [
        "predictions = np.argmax(model.predict(X_test[:10]), axis=-1)\r\n",
        "print(predictions)"
      ],
      "execution_count": null,
      "outputs": [
        {
          "output_type": "stream",
          "text": [
            "[7 2 1 0 4 1 4 9 5 9]\n"
          ],
          "name": "stdout"
        }
      ]
    }
  ]
}