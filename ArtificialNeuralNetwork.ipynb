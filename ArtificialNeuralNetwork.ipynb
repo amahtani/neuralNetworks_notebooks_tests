{
  "nbformat": 4,
  "nbformat_minor": 0,
  "metadata": {
    "colab": {
      "name": "ArtificialNeuralNetwork.ipynb",
      "provenance": [],
      "collapsed_sections": []
    },
    "kernelspec": {
      "name": "python3",
      "display_name": "Python 3"
    },
    "accelerator": "GPU"
  },
  "cells": [
    {
      "cell_type": "code",
      "metadata": {
        "id": "BI4361ePwmXr"
      },
      "source": [
        "import tensorflow as tf\r\n",
        "from tensorflow import keras"
      ],
      "execution_count": null,
      "outputs": []
    },
    {
      "cell_type": "code",
      "metadata": {
        "colab": {
          "base_uri": "https://localhost:8080/"
        },
        "id": "QFAoP8gUww2W",
        "outputId": "cc1194fa-5b63-4f4c-df62-20080d528a8d"
      },
      "source": [
        "physical_devices = tf.config.experimental.list_physical_devices('GPU')\r\n",
        "print(\"GPUs Available: \", len(physical_devices))\r\n",
        "tf.config.experimental.set_memory_growth(physical_devices[0], True)"
      ],
      "execution_count": null,
      "outputs": [
        {
          "output_type": "stream",
          "text": [
            "GPUs Available:  1\n"
          ],
          "name": "stdout"
        }
      ]
    },
    {
      "cell_type": "code",
      "metadata": {
        "id": "ImkCQbj-3Pip"
      },
      "source": [
        "from keras.models import Sequential\r\n",
        "from keras.layers import Dense, Activation\r\n",
        "from keras.optimizers import Adam\r\n",
        "from keras.metrics import categorical_crossentropy"
      ],
      "execution_count": null,
      "outputs": []
    },
    {
      "cell_type": "markdown",
      "metadata": {
        "id": "HLIqd5KKAdBJ"
      },
      "source": [
        "# **Create a Sequential Model - Which is the Neural Network Architecture**\r\n"
      ]
    },
    {
      "cell_type": "code",
      "metadata": {
        "id": "xCZSa3UI-_nA"
      },
      "source": [
        "model = Sequential([\r\n",
        "      Dense(4, input_shape=(1,), activation='relu'),\r\n",
        "      Dense(3, activation='relu'),\r\n",
        "      Dense(2, activation='softmax')\r\n",
        "])"
      ],
      "execution_count": null,
      "outputs": []
    },
    {
      "cell_type": "code",
      "metadata": {
        "colab": {
          "base_uri": "https://localhost:8080/"
        },
        "id": "SKLxdl_n_85s",
        "outputId": "667abe59-7416-4676-f8ac-7c255d5caff8"
      },
      "source": [
        "model.summary()"
      ],
      "execution_count": null,
      "outputs": [
        {
          "output_type": "stream",
          "text": [
            "Model: \"sequential\"\n",
            "_________________________________________________________________\n",
            "Layer (type)                 Output Shape              Param #   \n",
            "=================================================================\n",
            "dense (Dense)                (None, 4)                 8         \n",
            "_________________________________________________________________\n",
            "dense_1 (Dense)              (None, 3)                 15        \n",
            "_________________________________________________________________\n",
            "dense_2 (Dense)              (None, 2)                 8         \n",
            "=================================================================\n",
            "Total params: 31\n",
            "Trainable params: 31\n",
            "Non-trainable params: 0\n",
            "_________________________________________________________________\n"
          ],
          "name": "stdout"
        }
      ]
    },
    {
      "cell_type": "markdown",
      "metadata": {
        "id": "2wPNXHxpAoQB"
      },
      "source": [
        "# **Another way to create a Sequential Model**"
      ]
    },
    {
      "cell_type": "code",
      "metadata": {
        "id": "Zt4kclcx__6H"
      },
      "source": [
        "model2 = Sequential()\r\n",
        "\r\n",
        "model2.add(Dense(4, input_shape=(1,), activation='relu'))\r\n",
        "model2.add(Dense(3, activation='relu'))\r\n",
        "model2.add(Dense(2, activation='softmax'))"
      ],
      "execution_count": null,
      "outputs": []
    },
    {
      "cell_type": "code",
      "metadata": {
        "colab": {
          "base_uri": "https://localhost:8080/"
        },
        "id": "tj0cXhMnAWpn",
        "outputId": "50f3d92a-9a9d-4baa-c6dc-4d6ef7be3b52"
      },
      "source": [
        "model2.summary()"
      ],
      "execution_count": null,
      "outputs": [
        {
          "output_type": "stream",
          "text": [
            "Model: \"sequential_1\"\n",
            "_________________________________________________________________\n",
            "Layer (type)                 Output Shape              Param #   \n",
            "=================================================================\n",
            "dense_3 (Dense)              (None, 4)                 8         \n",
            "_________________________________________________________________\n",
            "dense_4 (Dense)              (None, 3)                 15        \n",
            "_________________________________________________________________\n",
            "dense_5 (Dense)              (None, 2)                 8         \n",
            "=================================================================\n",
            "Total params: 31\n",
            "Trainable params: 31\n",
            "Non-trainable params: 0\n",
            "_________________________________________________________________\n"
          ],
          "name": "stdout"
        }
      ]
    },
    {
      "cell_type": "markdown",
      "metadata": {
        "id": "mGuh9O8kI09S"
      },
      "source": [
        "# **Compile a Model so its ready for training**"
      ]
    },
    {
      "cell_type": "code",
      "metadata": {
        "id": "cNwkfbj1Jc5Q"
      },
      "source": [
        "from keras.optimizers import Adam\r\n",
        "from keras.metrics import categorical_crossentropy"
      ],
      "execution_count": null,
      "outputs": []
    },
    {
      "cell_type": "code",
      "metadata": {
        "id": "m6QtSyMHoi49"
      },
      "source": [
        "model.compile(\r\n",
        "    Adam(learning_rate=0.0001),\r\n",
        "    loss='sparse_categorical_crossentropy',\r\n",
        "    metrics=['accuracy']\r\n",
        ")"
      ],
      "execution_count": null,
      "outputs": []
    },
    {
      "cell_type": "code",
      "metadata": {
        "colab": {
          "base_uri": "https://localhost:8080/"
        },
        "id": "hrCf5OpuNMj_",
        "outputId": "d547876d-9d8d-4e25-8498-fc8748e9130e"
      },
      "source": [
        "model.optimizer.learning_rate"
      ],
      "execution_count": null,
      "outputs": [
        {
          "output_type": "stream",
          "text": [
            "<tf.Variable 'learning_rate:0' shape=() dtype=float32, numpy=0.01>\n"
          ],
          "name": "stdout"
        }
      ]
    },
    {
      "cell_type": "code",
      "metadata": {
        "id": "Jpxf5G3GJnzz"
      },
      "source": [
        "model.optimizer.learning_rate = 0.01"
      ],
      "execution_count": null,
      "outputs": []
    },
    {
      "cell_type": "code",
      "metadata": {
        "colab": {
          "base_uri": "https://localhost:8080/"
        },
        "id": "yQYTB3hJNOvt",
        "outputId": "b10c9bfd-1009-4d5c-933a-c8b3384309a0"
      },
      "source": [
        "model.optimizer.learning_rate"
      ],
      "execution_count": null,
      "outputs": [
        {
          "output_type": "execute_result",
          "data": {
            "text/plain": [
              "<tf.Variable 'learning_rate:0' shape=() dtype=float32, numpy=0.01>"
            ]
          },
          "metadata": {
            "tags": []
          },
          "execution_count": 15
        }
      ]
    },
    {
      "cell_type": "markdown",
      "metadata": {
        "id": "FEk-GuQv-jPQ"
      },
      "source": [
        "# Create Our Own Random Dataset That We Can Train Our Neural Network On\r\n",
        "* A vaccine is tested on 5250 individuals from age 10 to 90.\r\n",
        "* The individuals are split into two equal groups. First group is under 50 years and the second group is over 50 years.\r\n",
        "* 95% in group 1 had no side effects.\r\n",
        "* 95% in group 2 had side effects.\r\n"
      ]
    },
    {
      "cell_type": "code",
      "metadata": {
        "id": "sSTQdib2-1tS"
      },
      "source": [
        "import numpy as np\r\n",
        "from random import randint\r\n",
        "from sklearn.utils import shuffle\r\n",
        "from sklearn.preprocessing import MinMaxScaler"
      ],
      "execution_count": null,
      "outputs": []
    },
    {
      "cell_type": "code",
      "metadata": {
        "id": "6uK6AcYh-4ms"
      },
      "source": [
        "training_set = []\r\n",
        "training_labels = []\r\n",
        "\r\n",
        "for i in range(125):\r\n",
        "    random_under50 = randint(10,50)\r\n",
        "    training_set.append(random_under50)\r\n",
        "    training_labels.append(1)\r\n",
        "    \r\n",
        "    random_over50 = randint(51,90)\r\n",
        "    training_set.append(random_over50)\r\n",
        "    training_labels.append(0)\r\n",
        "    \r\n",
        "for i in range(2500):\r\n",
        "    random_under50 = randint(10,50)\r\n",
        "    training_set.append(random_under50)\r\n",
        "    training_labels.append(0)\r\n",
        "    \r\n",
        "    random_over50 = randint(51,90)\r\n",
        "    training_set.append(random_over50)\r\n",
        "    training_labels.append(1)"
      ],
      "execution_count": null,
      "outputs": []
    },
    {
      "cell_type": "code",
      "metadata": {
        "id": "AWmy1i5V_FGN"
      },
      "source": [
        "training_labels = np.array(training_labels)\r\n",
        "training_set = np.array(training_set)\r\n",
        "training_labels, training_set = shuffle(training_labels, training_set)"
      ],
      "execution_count": null,
      "outputs": []
    },
    {
      "cell_type": "code",
      "metadata": {
        "colab": {
          "base_uri": "https://localhost:8080/"
        },
        "id": "9ljOACa81Zc7",
        "outputId": "851e4a08-b38b-4553-d189-451c7b1273cf"
      },
      "source": [
        "print(training_set)\r\n",
        "print(training_labels)"
      ],
      "execution_count": null,
      "outputs": [
        {
          "output_type": "stream",
          "text": [
            "[38 34 16 ... 82 72 80]\n",
            "[0 0 0 ... 1 1 1]\n"
          ],
          "name": "stdout"
        }
      ]
    },
    {
      "cell_type": "code",
      "metadata": {
        "id": "pbVFCugi_HKm"
      },
      "source": [
        "scaler = MinMaxScaler(feature_range=(0,1))\r\n",
        "scaled_training_set = scaler.fit_transform(training_set.reshape(-1,1))"
      ],
      "execution_count": null,
      "outputs": []
    },
    {
      "cell_type": "code",
      "metadata": {
        "colab": {
          "base_uri": "https://localhost:8080/"
        },
        "id": "2d1cQLig1WQQ",
        "outputId": "4e2aea89-9417-4eb6-a7d7-e7dd1fdaec77"
      },
      "source": [
        "scaled_training_set"
      ],
      "execution_count": null,
      "outputs": [
        {
          "output_type": "execute_result",
          "data": {
            "text/plain": [
              "array([[0.35 ],\n",
              "       [0.3  ],\n",
              "       [0.075],\n",
              "       ...,\n",
              "       [0.9  ],\n",
              "       [0.775],\n",
              "       [0.875]])"
            ]
          },
          "metadata": {
            "tags": []
          },
          "execution_count": 9
        }
      ]
    },
    {
      "cell_type": "markdown",
      "metadata": {
        "id": "Dn-iJ-ZS_l1e"
      },
      "source": [
        "## Create the Neural Network"
      ]
    },
    {
      "cell_type": "code",
      "metadata": {
        "id": "uRSicJ27_kpv"
      },
      "source": [
        "model = Sequential([\r\n",
        "      Dense(units=1, input_shape=(1,), activation='relu'),\r\n",
        "      Dense(units=24, activation='relu'),\r\n",
        "      Dense(units=12, activation='relu'),\r\n",
        "      Dense(units=2, activation='softmax')\r\n",
        "])"
      ],
      "execution_count": null,
      "outputs": []
    },
    {
      "cell_type": "code",
      "metadata": {
        "id": "7KjtHcCs_pBe"
      },
      "source": [
        "model.compile(optimizer=Adam(learning_rate=0.0001), loss='sparse_categorical_crossentropy', metrics=['accuracy'])"
      ],
      "execution_count": null,
      "outputs": []
    },
    {
      "cell_type": "code",
      "metadata": {
        "id": "Ijs_d8rD_rxZ",
        "colab": {
          "base_uri": "https://localhost:8080/"
        },
        "outputId": "b90b047a-06af-45f7-ef1d-92ce5ca9d896"
      },
      "source": [
        "model.fit(x=scaled_training_set, y=training_labels, validation_split=0.1, batch_size=10, epochs=30, shuffle=True, verbose=2)"
      ],
      "execution_count": null,
      "outputs": [
        {
          "output_type": "stream",
          "text": [
            "Epoch 1/30\n",
            "473/473 - 3s - loss: 0.6517 - accuracy: 0.6116 - val_loss: 0.6302 - val_accuracy: 0.6971\n",
            "Epoch 2/30\n",
            "473/473 - 1s - loss: 0.5998 - accuracy: 0.7238 - val_loss: 0.5746 - val_accuracy: 0.7619\n",
            "Epoch 3/30\n",
            "473/473 - 1s - loss: 0.5392 - accuracy: 0.8061 - val_loss: 0.5100 - val_accuracy: 0.8248\n",
            "Epoch 4/30\n",
            "473/473 - 1s - loss: 0.4742 - accuracy: 0.8612 - val_loss: 0.4441 - val_accuracy: 0.8705\n",
            "Epoch 5/30\n",
            "473/473 - 1s - loss: 0.4140 - accuracy: 0.9037 - val_loss: 0.3872 - val_accuracy: 0.8857\n",
            "Epoch 6/30\n",
            "473/473 - 1s - loss: 0.3655 - accuracy: 0.9204 - val_loss: 0.3423 - val_accuracy: 0.9371\n",
            "Epoch 7/30\n",
            "473/473 - 1s - loss: 0.3304 - accuracy: 0.9393 - val_loss: 0.3120 - val_accuracy: 0.9371\n",
            "Epoch 8/30\n",
            "473/473 - 1s - loss: 0.3070 - accuracy: 0.9429 - val_loss: 0.2912 - val_accuracy: 0.9371\n",
            "Epoch 9/30\n",
            "473/473 - 1s - loss: 0.2916 - accuracy: 0.9475 - val_loss: 0.2761 - val_accuracy: 0.9581\n",
            "Epoch 10/30\n",
            "473/473 - 1s - loss: 0.2807 - accuracy: 0.9484 - val_loss: 0.2658 - val_accuracy: 0.9581\n",
            "Epoch 11/30\n",
            "473/473 - 1s - loss: 0.2730 - accuracy: 0.9481 - val_loss: 0.2596 - val_accuracy: 0.9581\n",
            "Epoch 12/30\n",
            "473/473 - 1s - loss: 0.2672 - accuracy: 0.9507 - val_loss: 0.2529 - val_accuracy: 0.9581\n",
            "Epoch 13/30\n",
            "473/473 - 1s - loss: 0.2624 - accuracy: 0.9513 - val_loss: 0.2491 - val_accuracy: 0.9581\n",
            "Epoch 14/30\n",
            "473/473 - 1s - loss: 0.2585 - accuracy: 0.9498 - val_loss: 0.2460 - val_accuracy: 0.9581\n",
            "Epoch 15/30\n",
            "473/473 - 1s - loss: 0.2558 - accuracy: 0.9509 - val_loss: 0.2418 - val_accuracy: 0.9581\n",
            "Epoch 16/30\n",
            "473/473 - 1s - loss: 0.2531 - accuracy: 0.9509 - val_loss: 0.2386 - val_accuracy: 0.9581\n",
            "Epoch 17/30\n",
            "473/473 - 1s - loss: 0.2509 - accuracy: 0.9488 - val_loss: 0.2361 - val_accuracy: 0.9486\n",
            "Epoch 18/30\n",
            "473/473 - 1s - loss: 0.2496 - accuracy: 0.9490 - val_loss: 0.2346 - val_accuracy: 0.9581\n",
            "Epoch 19/30\n",
            "473/473 - 1s - loss: 0.2480 - accuracy: 0.9498 - val_loss: 0.2328 - val_accuracy: 0.9486\n",
            "Epoch 20/30\n",
            "473/473 - 1s - loss: 0.2467 - accuracy: 0.9505 - val_loss: 0.2315 - val_accuracy: 0.9581\n",
            "Epoch 21/30\n",
            "473/473 - 1s - loss: 0.2456 - accuracy: 0.9488 - val_loss: 0.2301 - val_accuracy: 0.9486\n",
            "Epoch 22/30\n",
            "473/473 - 1s - loss: 0.2447 - accuracy: 0.9505 - val_loss: 0.2296 - val_accuracy: 0.9581\n",
            "Epoch 23/30\n",
            "473/473 - 1s - loss: 0.2437 - accuracy: 0.9507 - val_loss: 0.2281 - val_accuracy: 0.9486\n",
            "Epoch 24/30\n",
            "473/473 - 1s - loss: 0.2430 - accuracy: 0.9479 - val_loss: 0.2291 - val_accuracy: 0.9581\n",
            "Epoch 25/30\n",
            "473/473 - 1s - loss: 0.2423 - accuracy: 0.9498 - val_loss: 0.2287 - val_accuracy: 0.9581\n",
            "Epoch 26/30\n",
            "473/473 - 1s - loss: 0.2417 - accuracy: 0.9496 - val_loss: 0.2263 - val_accuracy: 0.9581\n",
            "Epoch 27/30\n",
            "473/473 - 1s - loss: 0.2409 - accuracy: 0.9484 - val_loss: 0.2286 - val_accuracy: 0.9581\n",
            "Epoch 28/30\n",
            "473/473 - 1s - loss: 0.2408 - accuracy: 0.9515 - val_loss: 0.2261 - val_accuracy: 0.9581\n",
            "Epoch 29/30\n",
            "473/473 - 1s - loss: 0.2400 - accuracy: 0.9503 - val_loss: 0.2246 - val_accuracy: 0.9486\n",
            "Epoch 30/30\n",
            "473/473 - 1s - loss: 0.2396 - accuracy: 0.9501 - val_loss: 0.2245 - val_accuracy: 0.9581\n"
          ],
          "name": "stdout"
        },
        {
          "output_type": "execute_result",
          "data": {
            "text/plain": [
              "<tensorflow.python.keras.callbacks.History at 0x7ff9e4090940>"
            ]
          },
          "metadata": {
            "tags": []
          },
          "execution_count": 12
        }
      ]
    },
    {
      "cell_type": "markdown",
      "metadata": {
        "id": "and1ixdo_vX_"
      },
      "source": [
        "## Create Some Test Data That The Neural Network Has Not Seen Before\r\n"
      ]
    },
    {
      "cell_type": "code",
      "metadata": {
        "id": "NKLLNA7q_309"
      },
      "source": [
        "test_labels = []\r\n",
        "test_set = []\r\n",
        "\r\n",
        "for i in range(25):\r\n",
        "    random_under50 = randint(10,50)\r\n",
        "    test_set.append(random_under50)\r\n",
        "    test_labels.append(1)\r\n",
        "    \r\n",
        "    random_over50 = randint(51,90)\r\n",
        "    test_set.append(random_over50)\r\n",
        "    test_labels.append(0)\r\n",
        "    \r\n",
        "for i in range(500):\r\n",
        "    random_under50 = randint(10,50)\r\n",
        "    test_set.append(random_under50)\r\n",
        "    test_labels.append(0)\r\n",
        "    \r\n",
        "    random_over50 = randint(51,90)\r\n",
        "    test_set.append(random_over50)\r\n",
        "    test_labels.append(1)"
      ],
      "execution_count": null,
      "outputs": []
    },
    {
      "cell_type": "code",
      "metadata": {
        "id": "znrMQKd-_7jU"
      },
      "source": [
        "test_labels = np.array(test_labels)\r\n",
        "test_set = np.array(test_set)\r\n",
        "test_labels, test_set = shuffle(test_labels, test_set)\r\n",
        "scaled_test_set = scaler.fit_transform(test_set.reshape(-1,1))"
      ],
      "execution_count": null,
      "outputs": []
    },
    {
      "cell_type": "code",
      "metadata": {
        "colab": {
          "base_uri": "https://localhost:8080/"
        },
        "id": "2eZfRAlG2PBI",
        "outputId": "af07f56c-a4f2-4695-8d65-bbd43fee5775"
      },
      "source": [
        "scaled_test_set"
      ],
      "execution_count": null,
      "outputs": [
        {
          "output_type": "execute_result",
          "data": {
            "text/plain": [
              "array([[1.    ],\n",
              "       [0.8375],\n",
              "       [0.025 ],\n",
              "       ...,\n",
              "       [0.8375],\n",
              "       [0.5   ],\n",
              "       [0.85  ]])"
            ]
          },
          "metadata": {
            "tags": []
          },
          "execution_count": 15
        }
      ]
    },
    {
      "cell_type": "markdown",
      "metadata": {
        "id": "wZcslVFy_7ED"
      },
      "source": [
        "Make Prediction With The Trained Neural Network"
      ]
    },
    {
      "cell_type": "code",
      "metadata": {
        "id": "UdD4s3_OAAsL"
      },
      "source": [
        "predictions = model.predict(x=scaled_test_set, batch_size=10, verbose=0)"
      ],
      "execution_count": null,
      "outputs": []
    },
    {
      "cell_type": "code",
      "metadata": {
        "colab": {
          "base_uri": "https://localhost:8080/"
        },
        "id": "epl6zh5b9vSS",
        "outputId": "cd00a189-86bf-499d-da63-508c6f83ea66"
      },
      "source": [
        "predictions"
      ],
      "execution_count": null,
      "outputs": [
        {
          "output_type": "execute_result",
          "data": {
            "text/plain": [
              "array([[0.0058102 , 0.99418986],\n",
              "       [0.02386111, 0.97613895],\n",
              "       [0.9588726 , 0.04112742],\n",
              "       ...,\n",
              "       [0.02386111, 0.97613895],\n",
              "       [0.55675656, 0.44324344],\n",
              "       [0.0214273 , 0.9785727 ]], dtype=float32)"
            ]
          },
          "metadata": {
            "tags": []
          },
          "execution_count": 17
        }
      ]
    },
    {
      "cell_type": "code",
      "metadata": {
        "id": "m3ON7-46ACy-"
      },
      "source": [
        "rounded_predictions = np.argmax(predictions, axis=-1)"
      ],
      "execution_count": null,
      "outputs": []
    },
    {
      "cell_type": "code",
      "metadata": {
        "id": "8zvLNfrIADyq",
        "colab": {
          "base_uri": "https://localhost:8080/"
        },
        "outputId": "d1ee957f-3154-46a3-d620-d129753caf24"
      },
      "source": [
        "rounded_predictions"
      ],
      "execution_count": null,
      "outputs": [
        {
          "output_type": "execute_result",
          "data": {
            "text/plain": [
              "array([1, 1, 0, ..., 1, 0, 1])"
            ]
          },
          "metadata": {
            "tags": []
          },
          "execution_count": 19
        }
      ]
    },
    {
      "cell_type": "markdown",
      "metadata": {
        "id": "leV8QddlAGqc"
      },
      "source": [
        "## Visualize The Prediction Results From The Neural Network On Test Data"
      ]
    },
    {
      "cell_type": "code",
      "metadata": {
        "id": "rjbNnvSjAFOq"
      },
      "source": [
        "from sklearn.metrics import confusion_matrix\r\n",
        "import itertools\r\n",
        "import matplotlib.pyplot as plt"
      ],
      "execution_count": null,
      "outputs": []
    },
    {
      "cell_type": "code",
      "metadata": {
        "id": "ms-mEE1iASTk"
      },
      "source": [
        "def plot_confusion_matrix(cm, classes, normalize=False, title=\"Confusion matrix\", cmap=plt.cm.Blues):\r\n",
        "  plt.imshow(cm, interpolation='nearest', cmap=cmap)\r\n",
        "  plt.title(title)\r\n",
        "  plt.colorbar()\r\n",
        "  tick_marks = np.arange(len(classes))\r\n",
        "  plt.xticks(tick_marks, classes, rotation=45)\r\n",
        "  plt.yticks(tick_marks, classes)\r\n",
        "\r\n",
        "  if normalize:\r\n",
        "    cm = cm.astype('float') / cm.sum(axis=1)[:, np.newaxis]\r\n",
        "    print(\"Normalized Confusion Matrix\")\r\n",
        "  else:\r\n",
        "    print(\"Confusion Matrix without Normalization\")\r\n",
        "\r\n",
        "  print(cm)\r\n",
        "\r\n",
        "  thresh = cm.max() / 2.0\r\n",
        "\r\n",
        "  for i, j in itertools.product(range(cm.shape[0]), range(cm.shape[1])):\r\n",
        "    plt.text(j, i, cm[i,j], horizontalalignment=\"center\", color=\"white\" if cm[i,j] > thresh else \"black\")\r\n",
        "\r\n",
        "  plt.tight_layout()\r\n",
        "  plt.xlabel('Predicted label')\r\n",
        "  plt.ylabel('True label')"
      ],
      "execution_count": null,
      "outputs": []
    },
    {
      "cell_type": "code",
      "metadata": {
        "id": "uWwgDmEpATz-",
        "colab": {
          "base_uri": "https://localhost:8080/",
          "height": 362
        },
        "outputId": "3b66418b-8e36-443c-93fb-e013318a5a13"
      },
      "source": [
        "cm = confusion_matrix(y_true=test_labels, y_pred=rounded_predictions)\r\n",
        "\r\n",
        "cm_plot_labels = ['no side effects', 'had side effects']\r\n",
        "plot_confusion_matrix(cm=cm, classes=cm_plot_labels)"
      ],
      "execution_count": null,
      "outputs": [
        {
          "output_type": "stream",
          "text": [
            "Confusion Matrix without Normalization\n",
            "[[500  25]\n",
            " [ 25 500]]\n"
          ],
          "name": "stdout"
        },
        {
          "output_type": "display_data",
          "data": {
            "image/png": "[encoded data removed]",
            "text/plain": [
              "<Figure size 432x288 with 2 Axes>"
            ]
          },
          "metadata": {
            "tags": [],
            "needs_background": "light"
          }
        }
      ]
    },
    {
      "cell_type": "markdown",
      "metadata": {
        "id": "IhohwsRnAVeN"
      },
      "source": [
        "## How To Save A Neural Networks Architecture and Weights When It's Done Training"
      ]
    },
    {
      "cell_type": "code",
      "metadata": {
        "id": "XXUp2vIkAU8z",
        "colab": {
          "base_uri": "https://localhost:8080/"
        },
        "outputId": "7a862b70-065e-4459-b8a6-3e094ce6c43a"
      },
      "source": [
        "import os.path\r\n",
        "if os.path.isfile('vaccine_trial_model.h5') is False:\r\n",
        "  model.save('vaccine_trial_model.h5')\r\n",
        "  print(\"Model Saved!\")"
      ],
      "execution_count": null,
      "outputs": [
        {
          "output_type": "stream",
          "text": [
            "Model Saved!\n"
          ],
          "name": "stdout"
        }
      ]
    },
    {
      "cell_type": "code",
      "metadata": {
        "id": "tc0y_MveAenR"
      },
      "source": [
        "from tensorflow.keras.models import load_model\r\n",
        "new_model = load_model('vaccine_trial_model.h5')"
      ],
      "execution_count": null,
      "outputs": []
    },
    {
      "cell_type": "code",
      "metadata": {
        "id": "KPTqXpzEAfrX",
        "colab": {
          "base_uri": "https://localhost:8080/"
        },
        "outputId": "22ef8722-6086-424c-cd2a-775dd84e7209"
      },
      "source": [
        "new_model.summary()"
      ],
      "execution_count": null,
      "outputs": [
        {
          "output_type": "stream",
          "text": [
            "Model: \"sequential\"\n",
            "_________________________________________________________________\n",
            "Layer (type)                 Output Shape              Param #   \n",
            "=================================================================\n",
            "dense (Dense)                (None, 12)                24        \n",
            "_________________________________________________________________\n",
            "dense_1 (Dense)              (None, 24)                312       \n",
            "_________________________________________________________________\n",
            "dense_2 (Dense)              (None, 12)                300       \n",
            "_________________________________________________________________\n",
            "dense_3 (Dense)              (None, 2)                 26        \n",
            "=================================================================\n",
            "Total params: 662\n",
            "Trainable params: 662\n",
            "Non-trainable params: 0\n",
            "_________________________________________________________________\n"
          ],
          "name": "stdout"
        }
      ]
    },
    {
      "cell_type": "code",
      "metadata": {
        "id": "dwdUwHXpAgjj",
        "colab": {
          "base_uri": "https://localhost:8080/"
        },
        "outputId": "15bd05b6-46fd-4901-b1bd-5325d5758cd7"
      },
      "source": [
        "new_model.get_weights()"
      ],
      "execution_count": null,
      "outputs": [
        {
          "output_type": "execute_result",
          "data": {
            "text/plain": [
              "[array([[ 0.69411564, -0.6549868 ,  0.63051486, -0.07436043,  0.5665383 ,\n",
              "          0.7142416 ,  0.5258094 ,  0.37689108,  0.23895432,  0.59681994,\n",
              "          0.47571743, -0.08612746]], dtype=float32),\n",
              " array([-0.08037931,  0.        , -0.18465157,  0.        ,  0.11678081,\n",
              "        -0.13766776, -0.15838188, -0.06172133, -0.10337194, -0.13631767,\n",
              "         0.11146188,  0.        ], dtype=float32),\n",
              " array([[ 0.0121936 , -0.13755673, -0.28762075,  0.09505132,  0.07509219,\n",
              "          0.39723533,  0.03918025, -0.19513744, -0.31675303,  0.10196389,\n",
              "          0.28403908,  0.25773588,  0.23126648, -0.4009253 ,  0.17990693,\n",
              "          0.27755505,  0.35389325, -0.34341684,  0.27151754,  0.22339678,\n",
              "         -0.21643282, -0.00329591,  0.04946434, -0.2515399 ],\n",
              "        [-0.30360833,  0.1437586 , -0.18010601,  0.09369498, -0.27418545,\n",
              "          0.22658318, -0.12899292, -0.19790198, -0.11536667,  0.21578836,\n",
              "          0.07834548, -0.11126208, -0.29387504, -0.21175416,  0.1786344 ,\n",
              "         -0.0354937 ,  0.05534819,  0.0621562 , -0.3974486 ,  0.12433803,\n",
              "          0.08497939,  0.15592933,  0.12396342, -0.35366225],\n",
              "        [ 0.04318441, -0.33708006,  0.17045632,  0.18860658, -0.00165822,\n",
              "         -0.26326078,  0.40191984, -0.3053141 , -0.28064534, -0.48856232,\n",
              "          0.5060764 , -0.00403626,  0.2349874 ,  0.2563591 ,  0.02403815,\n",
              "         -0.13852787,  0.40084222, -0.5248886 ,  0.12439564,  0.08518377,\n",
              "         -0.07429016, -0.02228043, -0.38353258, -0.5300115 ],\n",
              "        [ 0.05978379,  0.02710471,  0.36609656,  0.2633872 , -0.04549867,\n",
              "          0.18409717,  0.02463046,  0.34337413, -0.06895149,  0.01061913,\n",
              "         -0.095581  , -0.28801435,  0.14417809,  0.14759576, -0.21930222,\n",
              "         -0.3926325 , -0.37301156,  0.02956694,  0.21277863, -0.00122359,\n",
              "         -0.14484757, -0.3577161 ,  0.03991792, -0.1537283 ],\n",
              "        [-0.02190121,  0.20405309,  0.36246753,  0.35986146,  0.15092693,\n",
              "         -0.29328102,  0.12170613,  0.44885224, -0.06747668, -0.12433885,\n",
              "          0.04750868, -0.22078767, -0.07373308, -0.03646651,  0.14192313,\n",
              "         -0.33563122,  0.40398252,  0.19762027, -0.04719702, -0.3096809 ,\n",
              "          0.35832146, -0.0564037 , -0.1922738 ,  0.41314605],\n",
              "        [ 0.34063613, -0.01600132,  0.24563293, -0.09008364, -0.43594214,\n",
              "          0.28457427,  0.21143675,  0.32749218,  0.38670117, -0.21448837,\n",
              "          0.50518167,  0.1710937 ,  0.3621734 , -0.16252096, -0.14883244,\n",
              "          0.08601481,  0.28736877,  0.05557821,  0.05228207,  0.11748183,\n",
              "          0.38132736,  0.08309203, -0.20752539, -0.16700685],\n",
              "        [-0.02198312,  0.21483935,  0.55615985,  0.24902403, -0.06608718,\n",
              "         -0.09796801, -0.03168163,  0.23145264,  0.34035978, -0.53001577,\n",
              "          0.36380804,  0.08183995,  0.14801796,  0.1766882 , -0.3592945 ,\n",
              "          0.02414477,  0.3739864 , -0.51461005, -0.1327775 ,  0.16084713,\n",
              "          0.2255459 ,  0.25068054, -0.2714771 , -0.33739457],\n",
              "        [ 0.15593116, -0.30857435, -0.10164972,  0.29073012,  0.14476854,\n",
              "         -0.0963729 , -0.12033722,  0.4750117 ,  0.15324312,  0.0671959 ,\n",
              "         -0.02476787,  0.4316171 , -0.24310139, -0.2401453 , -0.07352325,\n",
              "          0.08532754,  0.17273323, -0.03050945,  0.37813613, -0.05910957,\n",
              "          0.08910944,  0.05521435,  0.38010973, -0.2177661 ],\n",
              "        [-0.05202784,  0.10263997,  0.5754467 ,  0.02493999, -0.11390396,\n",
              "         -0.31170496, -0.15193745, -0.04131016,  0.01136291, -0.7423349 ,\n",
              "          0.11398259,  0.11810362,  0.62551796,  0.40355057, -0.5013707 ,\n",
              "         -0.145875  , -0.2641494 , -0.7813587 ,  0.4124909 ,  0.03233075,\n",
              "         -0.02517069,  0.27178684,  0.32961488, -0.7760583 ],\n",
              "        [-0.32112005,  0.11948436,  0.5251091 ,  0.00923353, -0.12123738,\n",
              "         -0.36507717, -0.39023617, -0.09390909,  0.03323008,  0.05024178,\n",
              "         -0.26913786,  0.04812048, -0.09140117, -0.3201638 ,  0.17430858,\n",
              "          0.21114737,  0.04194742, -0.272384  ,  0.3270437 , -0.21063648,\n",
              "          0.2952925 ,  0.4123185 , -0.1156028 , -0.32044828],\n",
              "        [-0.16225216,  0.09778741, -0.02802849, -0.04691645, -0.33960077,\n",
              "         -0.33391005, -0.32794836,  0.31639698, -0.24859042,  0.24655673,\n",
              "         -0.16263798,  0.379127  ,  0.14565727, -0.09449814,  0.2514281 ,\n",
              "         -0.35694122, -0.04150724,  0.34777164,  0.04636292, -0.25834706,\n",
              "         -0.066076  ,  0.2745059 ,  0.1237732 ,  0.1932175 ],\n",
              "        [-0.32371646,  0.12239766, -0.08784634,  0.32437044,  0.18593776,\n",
              "          0.11541969, -0.00724739, -0.3186261 , -0.0183931 ,  0.20088595,\n",
              "          0.17607856,  0.34347945, -0.1731697 , -0.14108464, -0.0974057 ,\n",
              "          0.00833842,  0.11640173,  0.05879343,  0.2767796 , -0.39542836,\n",
              "          0.3915434 ,  0.01557344,  0.15177763,  0.04322281]],\n",
              "       dtype=float32),\n",
              " array([-0.01155331,  0.16874465, -0.18714118, -0.18712454,  0.17189857,\n",
              "         0.        ,  0.        ,  0.02560035, -0.00069552,  0.15204705,\n",
              "        -0.1264426 , -0.12577967, -0.12581892,  0.00339474,  0.08390823,\n",
              "         0.        , -0.00373205,  0.12512255, -0.06947337,  0.        ,\n",
              "        -0.14527471, -0.00342123, -0.00109646,  0.14070489], dtype=float32),\n",
              " array([[-0.17418471, -0.14839227, -0.22292216, -0.01501409, -0.05938099,\n",
              "         -0.30602413,  0.21417113, -0.2450236 , -0.04260315,  0.30950534,\n",
              "         -0.3267907 , -0.005354  ],\n",
              "        [ 0.3859513 ,  0.5072735 ,  0.07497416, -0.13531668,  0.13677454,\n",
              "          0.2862563 , -0.30951163,  0.0216783 , -0.05326333, -0.21000433,\n",
              "          0.26580587,  0.21779352],\n",
              "        [-0.5409627 , -0.47479168, -0.18955836, -0.25574017, -0.00580475,\n",
              "         -0.09658423,  0.04415482, -0.16059498, -0.3525014 ,  0.30409795,\n",
              "          0.48832667, -0.07758015],\n",
              "        [-0.4648704 , -0.60588425, -0.34162217,  0.02535769, -0.09974611,\n",
              "          0.25049767, -0.08597434, -0.39273426, -0.22107634,  0.18446523,\n",
              "         -0.2218401 , -0.4861863 ],\n",
              "        [ 0.3440802 ,  0.61314213,  0.37113416,  0.19664864, -0.64626247,\n",
              "         -0.5426607 , -0.36100805,  0.17509568, -0.33365232, -0.62975645,\n",
              "         -0.20769058,  0.28866228],\n",
              "        [-0.29617143, -0.16115977,  0.40722233,  0.29061592, -0.22559164,\n",
              "          0.2903577 ,  0.1875537 , -0.39780232, -0.25788707, -0.25640175,\n",
              "         -0.14290956, -0.00712827],\n",
              "        [ 0.00264183,  0.02153435, -0.16087088,  0.22145545, -0.36884245,\n",
              "         -0.23497961, -0.35230696, -0.35979262,  0.01816553,  0.3230334 ,\n",
              "         -0.06872198,  0.3879857 ],\n",
              "        [ 0.3300437 , -0.2587904 ,  0.3690136 ,  0.08117693,  0.40956813,\n",
              "          0.39238128, -0.25096944, -0.14465915, -0.2624569 , -0.06575354,\n",
              "         -0.16728106, -0.01622893],\n",
              "        [ 0.03409683,  0.25629812, -0.29202664,  0.32274592,  0.17188837,\n",
              "          0.34701556,  0.19100207,  0.28282845,  0.2738491 ,  0.18123053,\n",
              "          0.07335853,  0.21746527],\n",
              "        [ 0.0520599 ,  0.69638777,  0.5955816 ,  0.24247955, -0.80950105,\n",
              "         -0.7274966 , -0.23107979,  0.10207603, -0.2992768 , -0.40679467,\n",
              "         -0.25019425, -0.02787379],\n",
              "        [-0.08458766, -0.44833827, -0.09440982, -0.22918363,  0.17065258,\n",
              "          0.38072556, -0.19666179,  0.12790224, -0.1766759 ,  0.29164085,\n",
              "          0.29241887, -0.6064469 ],\n",
              "        [-0.20877664,  0.18060477, -0.35389724, -0.46688375,  0.5002667 ,\n",
              "         -0.1230753 , -0.2732906 , -0.14741632, -0.07681879,  0.17998922,\n",
              "          0.143933  , -0.3854728 ],\n",
              "        [-0.45432192, -0.5607101 , -0.67728126, -0.2708679 ,  0.38901004,\n",
              "         -0.0254166 ,  0.14778885, -0.09846131,  0.31534812,  0.08241189,\n",
              "          0.57829905, -0.13246703],\n",
              "        [ 0.19626492,  0.0448467 , -0.0039701 ,  0.08957646, -0.15067852,\n",
              "         -0.29018575,  0.03940898,  0.15129666, -0.06676217,  0.18153305,\n",
              "         -0.10437008, -0.33955467],\n",
              "        [ 0.12634791,  0.42928487, -0.22451957, -0.13738826, -0.11671514,\n",
              "         -0.33790627,  0.23948134, -0.2955692 ,  0.09455293,  0.04207269,\n",
              "          0.3122241 ,  0.404845  ],\n",
              "        [ 0.27980494, -0.08540812, -0.36764416, -0.38641298,  0.0028255 ,\n",
              "          0.01796708,  0.1102494 , -0.30780643,  0.21984601, -0.3331091 ,\n",
              "          0.08590037, -0.16590917],\n",
              "        [ 0.00965914,  0.13841349, -0.06819598,  0.05459154,  0.35891154,\n",
              "          0.5061903 ,  0.00979349,  0.37212384,  0.36769405,  0.41332576,\n",
              "          0.1502731 , -0.01443052],\n",
              "        [ 0.44357738,  0.69230926, -0.08806326, -0.02190569, -0.79592955,\n",
              "         -0.7371549 ,  0.11175005, -0.21201472, -0.40437162, -0.15617017,\n",
              "         -0.3738662 ,  0.6107251 ],\n",
              "        [-0.48519838,  0.19121207, -0.25857076, -0.12765707,  0.5233851 ,\n",
              "          0.53159773,  0.2640445 , -0.36232975,  0.23542365,  0.22558533,\n",
              "          0.32958764, -0.2283829 ],\n",
              "        [-0.23807736,  0.14554399,  0.09175599, -0.29703236, -0.07034656,\n",
              "          0.35859025,  0.05305073, -0.40803164, -0.27558404, -0.13550359,\n",
              "         -0.19779442, -0.37867406],\n",
              "        [-0.52899444, -0.27613834, -0.24858215,  0.09871338,  0.4164459 ,\n",
              "         -0.0332197 , -0.3163737 ,  0.3219164 ,  0.00313219,  0.44748753,\n",
              "         -0.05303684, -0.22714664],\n",
              "        [ 0.00573909, -0.45474067,  0.17913502,  0.28501213,  0.13176145,\n",
              "          0.11174868, -0.0342823 ,  0.0882422 , -0.14086255,  0.22944808,\n",
              "          0.05092346, -0.00306351],\n",
              "        [ 0.05868122, -0.18650195, -0.11412892, -0.02159018, -0.33226746,\n",
              "          0.27070266, -0.35268268,  0.04920116, -0.1556198 , -0.36890942,\n",
              "          0.35549298, -0.07252166],\n",
              "        [ 0.45163035,  0.40776494,  0.37291244,  0.6231332 , -0.53876215,\n",
              "         -0.68225384,  0.09616823,  0.00313096,  0.14402701, -0.3396692 ,\n",
              "         -0.29178718,  0.6847872 ]], dtype=float32),\n",
              " array([ 0.08907197,  0.12619503,  0.1163587 ,  0.08758342, -0.04961313,\n",
              "        -0.0271707 , -0.00078725, -0.00379448, -0.02042416, -0.06081245,\n",
              "        -0.0856429 ,  0.1219344 ], dtype=float32),\n",
              " array([[ 0.35872227, -0.82887363],\n",
              "        [ 0.8305956 , -0.74614275],\n",
              "        [ 0.9519977 , -0.35240006],\n",
              "        [ 0.6814931 , -0.48445547],\n",
              "        [-0.80105054,  0.7141658 ],\n",
              "        [-0.75237375,  0.5530095 ],\n",
              "        [-0.22224297,  0.1377746 ],\n",
              "        [-0.27614602, -0.2623726 ],\n",
              "        [ 0.00859903, -0.12136854],\n",
              "        [-0.7259222 , -0.27361453],\n",
              "        [ 0.10734425,  0.57437193],\n",
              "        [ 0.24781068, -0.94685125]], dtype=float32),\n",
              " array([ 0.03706621, -0.0370662 ], dtype=float32)]"
            ]
          },
          "metadata": {
            "tags": []
          },
          "execution_count": 27
        }
      ]
    },
    {
      "cell_type": "markdown",
      "metadata": {
        "id": "GvW4gfykAoN0"
      },
      "source": [
        "## Save The Neural Network To A JSON File"
      ]
    },
    {
      "cell_type": "code",
      "metadata": {
        "id": "28WrYhXrAhpr"
      },
      "source": [
        "json_string = model.to_json()"
      ],
      "execution_count": null,
      "outputs": []
    },
    {
      "cell_type": "code",
      "metadata": {
        "id": "kzhgAITUAx_6",
        "colab": {
          "base_uri": "https://localhost:8080/",
          "height": 120
        },
        "outputId": "21925621-8d85-4264-ac05-8af2ea2e7def"
      },
      "source": [
        "json_string"
      ],
      "execution_count": null,
      "outputs": [
        {
          "output_type": "execute_result",
          "data": {
            "application/vnd.google.colaboratory.intrinsic+json": {
              "type": "string"
            },
            "text/plain": [
              "'{\"class_name\": \"Sequential\", \"config\": {\"name\": \"sequential\", \"layers\": [{\"class_name\": \"InputLayer\", \"config\": {\"batch_input_shape\": [null, 1], \"dtype\": \"float32\", \"sparse\": false, \"ragged\": false, \"name\": \"dense_input\"}}, {\"class_name\": \"Dense\", \"config\": {\"name\": \"dense\", \"trainable\": true, \"batch_input_shape\": [null, 1], \"dtype\": \"float32\", \"units\": 12, \"activation\": \"relu\", \"use_bias\": true, \"kernel_initializer\": {\"class_name\": \"GlorotUniform\", \"config\": {\"seed\": null}}, \"bias_initializer\": {\"class_name\": \"Zeros\", \"config\": {}}, \"kernel_regularizer\": null, \"bias_regularizer\": null, \"activity_regularizer\": null, \"kernel_constraint\": null, \"bias_constraint\": null}}, {\"class_name\": \"Dense\", \"config\": {\"name\": \"dense_1\", \"trainable\": true, \"dtype\": \"float32\", \"units\": 24, \"activation\": \"relu\", \"use_bias\": true, \"kernel_initializer\": {\"class_name\": \"GlorotUniform\", \"config\": {\"seed\": null}}, \"bias_initializer\": {\"class_name\": \"Zeros\", \"config\": {}}, \"kernel_regularizer\": null, \"bias_regularizer\": null, \"activity_regularizer\": null, \"kernel_constraint\": null, \"bias_constraint\": null}}, {\"class_name\": \"Dense\", \"config\": {\"name\": \"dense_2\", \"trainable\": true, \"dtype\": \"float32\", \"units\": 12, \"activation\": \"relu\", \"use_bias\": true, \"kernel_initializer\": {\"class_name\": \"GlorotUniform\", \"config\": {\"seed\": null}}, \"bias_initializer\": {\"class_name\": \"Zeros\", \"config\": {}}, \"kernel_regularizer\": null, \"bias_regularizer\": null, \"activity_regularizer\": null, \"kernel_constraint\": null, \"bias_constraint\": null}}, {\"class_name\": \"Dense\", \"config\": {\"name\": \"dense_3\", \"trainable\": true, \"dtype\": \"float32\", \"units\": 2, \"activation\": \"softmax\", \"use_bias\": true, \"kernel_initializer\": {\"class_name\": \"GlorotUniform\", \"config\": {\"seed\": null}}, \"bias_initializer\": {\"class_name\": \"Zeros\", \"config\": {}}, \"kernel_regularizer\": null, \"bias_regularizer\": null, \"activity_regularizer\": null, \"kernel_constraint\": null, \"bias_constraint\": null}}]}, \"keras_version\": \"2.4.0\", \"backend\": \"tensorflow\"}'"
            ]
          },
          "metadata": {
            "tags": []
          },
          "execution_count": 29
        }
      ]
    },
    {
      "cell_type": "code",
      "metadata": {
        "id": "p8VE-Ob-AzkV"
      },
      "source": [
        "from tensorflow.keras.models import model_from_json\r\n",
        "model_architecture = model_from_json(json_string)"
      ],
      "execution_count": null,
      "outputs": []
    },
    {
      "cell_type": "code",
      "metadata": {
        "id": "oWpAvH0KA0Hm",
        "colab": {
          "base_uri": "https://localhost:8080/"
        },
        "outputId": "93de3b9e-8ef9-42e3-8765-4c9242542de0"
      },
      "source": [
        "model_architecture.summary()"
      ],
      "execution_count": null,
      "outputs": [
        {
          "output_type": "stream",
          "text": [
            "Model: \"sequential\"\n",
            "_________________________________________________________________\n",
            "Layer (type)                 Output Shape              Param #   \n",
            "=================================================================\n",
            "dense (Dense)                (None, 12)                24        \n",
            "_________________________________________________________________\n",
            "dense_1 (Dense)              (None, 24)                312       \n",
            "_________________________________________________________________\n",
            "dense_2 (Dense)              (None, 12)                300       \n",
            "_________________________________________________________________\n",
            "dense_3 (Dense)              (None, 2)                 26        \n",
            "=================================================================\n",
            "Total params: 662\n",
            "Trainable params: 662\n",
            "Non-trainable params: 0\n",
            "_________________________________________________________________\n"
          ],
          "name": "stdout"
        }
      ]
    },
    {
      "cell_type": "markdown",
      "metadata": {
        "id": "K2z9O5nYA2MT"
      },
      "source": [
        "## Only Save The Weights Of The Neural Network"
      ]
    },
    {
      "cell_type": "code",
      "metadata": {
        "id": "PXA0LVkCA1U4",
        "colab": {
          "base_uri": "https://localhost:8080/"
        },
        "outputId": "a7d301e7-2533-45dd-e58d-6392ffc42fb0"
      },
      "source": [
        "import os.path\r\n",
        "if os.path.isfile('model_weights.h5') is False:\r\n",
        "  model.save_weights('model_weights.h5')\r\n",
        "  print(\"Model Saved!\")"
      ],
      "execution_count": null,
      "outputs": [
        {
          "output_type": "stream",
          "text": [
            "Model Saved!\n"
          ],
          "name": "stdout"
        }
      ]
    },
    {
      "cell_type": "code",
      "metadata": {
        "id": "ELXsdzsrBD-_"
      },
      "source": [
        "model2 = Sequential([\r\n",
        "      Dense(units=12, input_shape=(1,), activation='relu'),\r\n",
        "      Dense(units=24, activation='relu'),\r\n",
        "      Dense(units=12, activation='relu'),\r\n",
        "      Dense(units=2, activation='softmax')\r\n",
        "])"
      ],
      "execution_count": null,
      "outputs": []
    },
    {
      "cell_type": "code",
      "metadata": {
        "id": "q-7Nqe-7A7_y"
      },
      "source": [
        "model2.load_weights('model_weights.h5')"
      ],
      "execution_count": null,
      "outputs": []
    },
    {
      "cell_type": "code",
      "metadata": {
        "id": "N-aDukf4BFDk",
        "colab": {
          "base_uri": "https://localhost:8080/"
        },
        "outputId": "7f09a2ee-9360-4594-9e09-9f556327b495"
      },
      "source": [
        "model2.get_weights()"
      ],
      "execution_count": null,
      "outputs": [
        {
          "output_type": "execute_result",
          "data": {
            "text/plain": [
              "[array([[ 0.69411564, -0.6549868 ,  0.63051486, -0.07436043,  0.5665383 ,\n",
              "          0.7142416 ,  0.5258094 ,  0.37689108,  0.23895432,  0.59681994,\n",
              "          0.47571743, -0.08612746]], dtype=float32),\n",
              " array([-0.08037931,  0.        , -0.18465157,  0.        ,  0.11678081,\n",
              "        -0.13766776, -0.15838188, -0.06172133, -0.10337194, -0.13631767,\n",
              "         0.11146188,  0.        ], dtype=float32),\n",
              " array([[ 0.0121936 , -0.13755673, -0.28762075,  0.09505132,  0.07509219,\n",
              "          0.39723533,  0.03918025, -0.19513744, -0.31675303,  0.10196389,\n",
              "          0.28403908,  0.25773588,  0.23126648, -0.4009253 ,  0.17990693,\n",
              "          0.27755505,  0.35389325, -0.34341684,  0.27151754,  0.22339678,\n",
              "         -0.21643282, -0.00329591,  0.04946434, -0.2515399 ],\n",
              "        [-0.30360833,  0.1437586 , -0.18010601,  0.09369498, -0.27418545,\n",
              "          0.22658318, -0.12899292, -0.19790198, -0.11536667,  0.21578836,\n",
              "          0.07834548, -0.11126208, -0.29387504, -0.21175416,  0.1786344 ,\n",
              "         -0.0354937 ,  0.05534819,  0.0621562 , -0.3974486 ,  0.12433803,\n",
              "          0.08497939,  0.15592933,  0.12396342, -0.35366225],\n",
              "        [ 0.04318441, -0.33708006,  0.17045632,  0.18860658, -0.00165822,\n",
              "         -0.26326078,  0.40191984, -0.3053141 , -0.28064534, -0.48856232,\n",
              "          0.5060764 , -0.00403626,  0.2349874 ,  0.2563591 ,  0.02403815,\n",
              "         -0.13852787,  0.40084222, -0.5248886 ,  0.12439564,  0.08518377,\n",
              "         -0.07429016, -0.02228043, -0.38353258, -0.5300115 ],\n",
              "        [ 0.05978379,  0.02710471,  0.36609656,  0.2633872 , -0.04549867,\n",
              "          0.18409717,  0.02463046,  0.34337413, -0.06895149,  0.01061913,\n",
              "         -0.095581  , -0.28801435,  0.14417809,  0.14759576, -0.21930222,\n",
              "         -0.3926325 , -0.37301156,  0.02956694,  0.21277863, -0.00122359,\n",
              "         -0.14484757, -0.3577161 ,  0.03991792, -0.1537283 ],\n",
              "        [-0.02190121,  0.20405309,  0.36246753,  0.35986146,  0.15092693,\n",
              "         -0.29328102,  0.12170613,  0.44885224, -0.06747668, -0.12433885,\n",
              "          0.04750868, -0.22078767, -0.07373308, -0.03646651,  0.14192313,\n",
              "         -0.33563122,  0.40398252,  0.19762027, -0.04719702, -0.3096809 ,\n",
              "          0.35832146, -0.0564037 , -0.1922738 ,  0.41314605],\n",
              "        [ 0.34063613, -0.01600132,  0.24563293, -0.09008364, -0.43594214,\n",
              "          0.28457427,  0.21143675,  0.32749218,  0.38670117, -0.21448837,\n",
              "          0.50518167,  0.1710937 ,  0.3621734 , -0.16252096, -0.14883244,\n",
              "          0.08601481,  0.28736877,  0.05557821,  0.05228207,  0.11748183,\n",
              "          0.38132736,  0.08309203, -0.20752539, -0.16700685],\n",
              "        [-0.02198312,  0.21483935,  0.55615985,  0.24902403, -0.06608718,\n",
              "         -0.09796801, -0.03168163,  0.23145264,  0.34035978, -0.53001577,\n",
              "          0.36380804,  0.08183995,  0.14801796,  0.1766882 , -0.3592945 ,\n",
              "          0.02414477,  0.3739864 , -0.51461005, -0.1327775 ,  0.16084713,\n",
              "          0.2255459 ,  0.25068054, -0.2714771 , -0.33739457],\n",
              "        [ 0.15593116, -0.30857435, -0.10164972,  0.29073012,  0.14476854,\n",
              "         -0.0963729 , -0.12033722,  0.4750117 ,  0.15324312,  0.0671959 ,\n",
              "         -0.02476787,  0.4316171 , -0.24310139, -0.2401453 , -0.07352325,\n",
              "          0.08532754,  0.17273323, -0.03050945,  0.37813613, -0.05910957,\n",
              "          0.08910944,  0.05521435,  0.38010973, -0.2177661 ],\n",
              "        [-0.05202784,  0.10263997,  0.5754467 ,  0.02493999, -0.11390396,\n",
              "         -0.31170496, -0.15193745, -0.04131016,  0.01136291, -0.7423349 ,\n",
              "          0.11398259,  0.11810362,  0.62551796,  0.40355057, -0.5013707 ,\n",
              "         -0.145875  , -0.2641494 , -0.7813587 ,  0.4124909 ,  0.03233075,\n",
              "         -0.02517069,  0.27178684,  0.32961488, -0.7760583 ],\n",
              "        [-0.32112005,  0.11948436,  0.5251091 ,  0.00923353, -0.12123738,\n",
              "         -0.36507717, -0.39023617, -0.09390909,  0.03323008,  0.05024178,\n",
              "         -0.26913786,  0.04812048, -0.09140117, -0.3201638 ,  0.17430858,\n",
              "          0.21114737,  0.04194742, -0.272384  ,  0.3270437 , -0.21063648,\n",
              "          0.2952925 ,  0.4123185 , -0.1156028 , -0.32044828],\n",
              "        [-0.16225216,  0.09778741, -0.02802849, -0.04691645, -0.33960077,\n",
              "         -0.33391005, -0.32794836,  0.31639698, -0.24859042,  0.24655673,\n",
              "         -0.16263798,  0.379127  ,  0.14565727, -0.09449814,  0.2514281 ,\n",
              "         -0.35694122, -0.04150724,  0.34777164,  0.04636292, -0.25834706,\n",
              "         -0.066076  ,  0.2745059 ,  0.1237732 ,  0.1932175 ],\n",
              "        [-0.32371646,  0.12239766, -0.08784634,  0.32437044,  0.18593776,\n",
              "          0.11541969, -0.00724739, -0.3186261 , -0.0183931 ,  0.20088595,\n",
              "          0.17607856,  0.34347945, -0.1731697 , -0.14108464, -0.0974057 ,\n",
              "          0.00833842,  0.11640173,  0.05879343,  0.2767796 , -0.39542836,\n",
              "          0.3915434 ,  0.01557344,  0.15177763,  0.04322281]],\n",
              "       dtype=float32),\n",
              " array([-0.01155331,  0.16874465, -0.18714118, -0.18712454,  0.17189857,\n",
              "         0.        ,  0.        ,  0.02560035, -0.00069552,  0.15204705,\n",
              "        -0.1264426 , -0.12577967, -0.12581892,  0.00339474,  0.08390823,\n",
              "         0.        , -0.00373205,  0.12512255, -0.06947337,  0.        ,\n",
              "        -0.14527471, -0.00342123, -0.00109646,  0.14070489], dtype=float32),\n",
              " array([[-0.17418471, -0.14839227, -0.22292216, -0.01501409, -0.05938099,\n",
              "         -0.30602413,  0.21417113, -0.2450236 , -0.04260315,  0.30950534,\n",
              "         -0.3267907 , -0.005354  ],\n",
              "        [ 0.3859513 ,  0.5072735 ,  0.07497416, -0.13531668,  0.13677454,\n",
              "          0.2862563 , -0.30951163,  0.0216783 , -0.05326333, -0.21000433,\n",
              "          0.26580587,  0.21779352],\n",
              "        [-0.5409627 , -0.47479168, -0.18955836, -0.25574017, -0.00580475,\n",
              "         -0.09658423,  0.04415482, -0.16059498, -0.3525014 ,  0.30409795,\n",
              "          0.48832667, -0.07758015],\n",
              "        [-0.4648704 , -0.60588425, -0.34162217,  0.02535769, -0.09974611,\n",
              "          0.25049767, -0.08597434, -0.39273426, -0.22107634,  0.18446523,\n",
              "         -0.2218401 , -0.4861863 ],\n",
              "        [ 0.3440802 ,  0.61314213,  0.37113416,  0.19664864, -0.64626247,\n",
              "         -0.5426607 , -0.36100805,  0.17509568, -0.33365232, -0.62975645,\n",
              "         -0.20769058,  0.28866228],\n",
              "        [-0.29617143, -0.16115977,  0.40722233,  0.29061592, -0.22559164,\n",
              "          0.2903577 ,  0.1875537 , -0.39780232, -0.25788707, -0.25640175,\n",
              "         -0.14290956, -0.00712827],\n",
              "        [ 0.00264183,  0.02153435, -0.16087088,  0.22145545, -0.36884245,\n",
              "         -0.23497961, -0.35230696, -0.35979262,  0.01816553,  0.3230334 ,\n",
              "         -0.06872198,  0.3879857 ],\n",
              "        [ 0.3300437 , -0.2587904 ,  0.3690136 ,  0.08117693,  0.40956813,\n",
              "          0.39238128, -0.25096944, -0.14465915, -0.2624569 , -0.06575354,\n",
              "         -0.16728106, -0.01622893],\n",
              "        [ 0.03409683,  0.25629812, -0.29202664,  0.32274592,  0.17188837,\n",
              "          0.34701556,  0.19100207,  0.28282845,  0.2738491 ,  0.18123053,\n",
              "          0.07335853,  0.21746527],\n",
              "        [ 0.0520599 ,  0.69638777,  0.5955816 ,  0.24247955, -0.80950105,\n",
              "         -0.7274966 , -0.23107979,  0.10207603, -0.2992768 , -0.40679467,\n",
              "         -0.25019425, -0.02787379],\n",
              "        [-0.08458766, -0.44833827, -0.09440982, -0.22918363,  0.17065258,\n",
              "          0.38072556, -0.19666179,  0.12790224, -0.1766759 ,  0.29164085,\n",
              "          0.29241887, -0.6064469 ],\n",
              "        [-0.20877664,  0.18060477, -0.35389724, -0.46688375,  0.5002667 ,\n",
              "         -0.1230753 , -0.2732906 , -0.14741632, -0.07681879,  0.17998922,\n",
              "          0.143933  , -0.3854728 ],\n",
              "        [-0.45432192, -0.5607101 , -0.67728126, -0.2708679 ,  0.38901004,\n",
              "         -0.0254166 ,  0.14778885, -0.09846131,  0.31534812,  0.08241189,\n",
              "          0.57829905, -0.13246703],\n",
              "        [ 0.19626492,  0.0448467 , -0.0039701 ,  0.08957646, -0.15067852,\n",
              "         -0.29018575,  0.03940898,  0.15129666, -0.06676217,  0.18153305,\n",
              "         -0.10437008, -0.33955467],\n",
              "        [ 0.12634791,  0.42928487, -0.22451957, -0.13738826, -0.11671514,\n",
              "         -0.33790627,  0.23948134, -0.2955692 ,  0.09455293,  0.04207269,\n",
              "          0.3122241 ,  0.404845  ],\n",
              "        [ 0.27980494, -0.08540812, -0.36764416, -0.38641298,  0.0028255 ,\n",
              "          0.01796708,  0.1102494 , -0.30780643,  0.21984601, -0.3331091 ,\n",
              "          0.08590037, -0.16590917],\n",
              "        [ 0.00965914,  0.13841349, -0.06819598,  0.05459154,  0.35891154,\n",
              "          0.5061903 ,  0.00979349,  0.37212384,  0.36769405,  0.41332576,\n",
              "          0.1502731 , -0.01443052],\n",
              "        [ 0.44357738,  0.69230926, -0.08806326, -0.02190569, -0.79592955,\n",
              "         -0.7371549 ,  0.11175005, -0.21201472, -0.40437162, -0.15617017,\n",
              "         -0.3738662 ,  0.6107251 ],\n",
              "        [-0.48519838,  0.19121207, -0.25857076, -0.12765707,  0.5233851 ,\n",
              "          0.53159773,  0.2640445 , -0.36232975,  0.23542365,  0.22558533,\n",
              "          0.32958764, -0.2283829 ],\n",
              "        [-0.23807736,  0.14554399,  0.09175599, -0.29703236, -0.07034656,\n",
              "          0.35859025,  0.05305073, -0.40803164, -0.27558404, -0.13550359,\n",
              "         -0.19779442, -0.37867406],\n",
              "        [-0.52899444, -0.27613834, -0.24858215,  0.09871338,  0.4164459 ,\n",
              "         -0.0332197 , -0.3163737 ,  0.3219164 ,  0.00313219,  0.44748753,\n",
              "         -0.05303684, -0.22714664],\n",
              "        [ 0.00573909, -0.45474067,  0.17913502,  0.28501213,  0.13176145,\n",
              "          0.11174868, -0.0342823 ,  0.0882422 , -0.14086255,  0.22944808,\n",
              "          0.05092346, -0.00306351],\n",
              "        [ 0.05868122, -0.18650195, -0.11412892, -0.02159018, -0.33226746,\n",
              "          0.27070266, -0.35268268,  0.04920116, -0.1556198 , -0.36890942,\n",
              "          0.35549298, -0.07252166],\n",
              "        [ 0.45163035,  0.40776494,  0.37291244,  0.6231332 , -0.53876215,\n",
              "         -0.68225384,  0.09616823,  0.00313096,  0.14402701, -0.3396692 ,\n",
              "         -0.29178718,  0.6847872 ]], dtype=float32),\n",
              " array([ 0.08907197,  0.12619503,  0.1163587 ,  0.08758342, -0.04961313,\n",
              "        -0.0271707 , -0.00078725, -0.00379448, -0.02042416, -0.06081245,\n",
              "        -0.0856429 ,  0.1219344 ], dtype=float32),\n",
              " array([[ 0.35872227, -0.82887363],\n",
              "        [ 0.8305956 , -0.74614275],\n",
              "        [ 0.9519977 , -0.35240006],\n",
              "        [ 0.6814931 , -0.48445547],\n",
              "        [-0.80105054,  0.7141658 ],\n",
              "        [-0.75237375,  0.5530095 ],\n",
              "        [-0.22224297,  0.1377746 ],\n",
              "        [-0.27614602, -0.2623726 ],\n",
              "        [ 0.00859903, -0.12136854],\n",
              "        [-0.7259222 , -0.27361453],\n",
              "        [ 0.10734425,  0.57437193],\n",
              "        [ 0.24781068, -0.94685125]], dtype=float32),\n",
              " array([ 0.03706621, -0.0370662 ], dtype=float32)]"
            ]
          },
          "metadata": {
            "tags": []
          },
          "execution_count": 35
        }
      ]
    },
    {
      "cell_type": "markdown",
      "metadata": {
        "id": "rMTKV7SUG5l4"
      },
      "source": [
        "# Regularization - Reduce Overfitting"
      ]
    },
    {
      "cell_type": "code",
      "metadata": {
        "id": "lx4KejUbHBwu"
      },
      "source": [
        "from tensorflow.keras import regularizers"
      ],
      "execution_count": null,
      "outputs": []
    },
    {
      "cell_type": "code",
      "metadata": {
        "id": "1pfyp2fnHMI9"
      },
      "source": [
        "model = Sequential([\r\n",
        "      Dense(units=12, input_shape=(1,), activation='relu'),\r\n",
        "      Dense(units=24, activation='relu', kernel_regularizer=regularizers.l2(0.01)),\r\n",
        "      Dense(units=12, activation='relu', kernel_regularizer=regularizers.l2(0.01)),\r\n",
        "      Dense(units=2, activation='softmax')\r\n",
        "])"
      ],
      "execution_count": null,
      "outputs": []
    },
    {
      "cell_type": "code",
      "metadata": {
        "id": "3aiDQvvX_xKe"
      },
      "source": [
        ""
      ],
      "execution_count": null,
      "outputs": []
    },
    {
      "cell_type": "markdown",
      "metadata": {
        "id": "_smkcVTe_ytM"
      },
      "source": [
        ""
      ]
    }
  ]
}